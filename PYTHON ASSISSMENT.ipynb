{
 "cells": [
  {
   "cell_type": "code",
   "execution_count": 1,
   "id": "b5c1bce7-5932-48f9-a26d-c41715e6acfd",
   "metadata": {},
   "outputs": [],
   "source": [
    "#PYTHON ASSIGNMENT QUESTIONS\n",
    "#1 Write a python program. To print hello world.\n",
    "#2 Write a python program to input two numbers and perform all basic opereration.\n",
    "#3 Write a python program whether a number is even or odd.\n",
    "#4 Write a python program to check weather a number is divisible by 3, Also check it is divisible by 5 or not.\n",
    "#5 Create a basic ATM program that allow user to check thei balance, deposit money and withdraw money,\n",
    " # insuring that they didnt withdraw more than they have.\n",
    "#6 Write a python program to print all even numbers from 1 to 100.\n",
    "#7 Wite a python program to print the table of any number inputd by the user.\n",
    "#8 Write a python program to print fobonacci series.\n",
    "#9 Write a python program to print to input a number weather it is palendrome or not.\n",
    "#10 Write a python program to input the length of a series or list and create a list dynamically hence search from the list using linear search.\n",
    "#11 Write a python program to print to create a dictionary for every students data- roll_no, name, and the course_id hence create an input for the \n",
    "  # roll_no and output the course_id\n",
    "#12 Write a python program that displays a menu with the item prices, lets the user select items to add their order and tell the total bill also.\n",
    "#13 Write a python program to print to print star pattern (6x6) and right angle triangle.\n",
    "#14 Write a python program to print a calculator\n",
    "#15 Write a python program to print to swap two numbers using third variable second without using third varible in a.\n",
    "#16 Write a python program to create a function to sum two numbers.\n",
    "#17 Write a python program to create a fucntion to even and odd.\n",
    "#18 Write a python program to create a function that outputs factorial of a number.\n",
    "#19 Write a python program to create a function that inputs any number of parameters and output- 1. Sum 2.Product 3.Average."
   ]
  },
  {
   "cell_type": "code",
   "execution_count": null,
   "id": "12d0021b-d934-49c5-949d-cac5230fc061",
   "metadata": {},
   "outputs": [],
   "source": [
    "# INDEX #\n",
    "## QUESTION 01 - 05 == UNIT 1  ##\n",
    "## QUESTION 06 - 13 == UNIT 2  ##\n",
    "## QUESTION 14 - 19 == UNIT 3  ##\n",
    "## PYTHON NOTES ##"
   ]
  },
  {
   "cell_type": "code",
   "execution_count": null,
   "id": "3b9e590e-6dd0-4f29-bd39-b601a62a3a64",
   "metadata": {},
   "outputs": [],
   "source": [
    "# UNIT 1"
   ]
  },
  {
   "cell_type": "code",
   "execution_count": 1,
   "id": "48347262-ed6a-4f36-8303-aebbb6e82504",
   "metadata": {},
   "outputs": [
    {
     "name": "stdout",
     "output_type": "stream",
     "text": [
      "Hello World!\n"
     ]
    }
   ],
   "source": [
    "#1 Write a python program. To print hello world.\n",
    "print(\"Hello World!\")\n"
   ]
  },
  {
   "cell_type": "code",
   "execution_count": 9,
   "id": "e9c53944-aff6-4b76-82cf-c2e574ae4065",
   "metadata": {},
   "outputs": [
    {
     "name": "stdin",
     "output_type": "stream",
     "text": [
      "Enter the first number:  15\n",
      "Enter the second number:  15\n"
     ]
    },
    {
     "name": "stdout",
     "output_type": "stream",
     "text": [
      "\n",
      "Results:\n",
      "Addition: 15 + 15 = 30\n",
      "Subtraction: 15 - 15 = 0\n",
      "Multiplication: 15 * 15 = 225\n",
      "Division: 15 / 15 = 1.0\n",
      "Modulus: 15 % 15 = 0\n"
     ]
    }
   ],
   "source": [
    "#2 Write a python program to input two numbers and perform all basic opereration.\n",
    "\n",
    "num1 = int(input(\"Enter the first number: \"))\n",
    "num2 = int(input(\"Enter the second number: \"))\n",
    "addition = num1 + num2\n",
    "subtraction = num1 - num2\n",
    "multiplication = num1 * num2\n",
    "division = num1 / num2 if num2 != 0 else \"ERROR\" \n",
    "modulus = num1 % num2 if num2 != 0 else \"ERROR\"  \n",
    "print(\"\\nResults:\")\n",
    "print(f\"Addition: {num1} + {num2} = {addition}\")\n",
    "print(f\"Subtraction: {num1} - {num2} = {subtraction}\")\n",
    "print(f\"Multiplication: {num1} * {num2} = {multiplication}\")\n",
    "print(f\"Division: {num1} / {num2} = {division}\")\n",
    "print(f\"Modulus: {num1} % {num2} = {modulus}\")"
   ]
  },
  {
   "cell_type": "code",
   "execution_count": 37,
   "id": "00a8ee2b-9446-4b3e-8b26-84837cb82839",
   "metadata": {},
   "outputs": [
    {
     "name": "stdin",
     "output_type": "stream",
     "text": [
      "Enter a number:  6\n"
     ]
    },
    {
     "name": "stdout",
     "output_type": "stream",
     "text": [
      "number is even.\n"
     ]
    }
   ],
   "source": [
    "#3 Write a python program whether a number is even or odd.\n",
    "number = int(input(\"Enter a number: \"))\n",
    "if number % 2 == 0:\n",
    "    print(\"number is even.\")\n",
    "else:\n",
    "    print(\"number is odd.\")"
   ]
  },
  {
   "cell_type": "code",
   "execution_count": 41,
   "id": "3e1d0054-8e8e-4dfc-9d59-391c599814b9",
   "metadata": {},
   "outputs": [
    {
     "name": "stdin",
     "output_type": "stream",
     "text": [
      "Enter a number:  45\n"
     ]
    },
    {
     "name": "stdout",
     "output_type": "stream",
     "text": [
      "45 is divisible by 3.\n",
      "45 is divisible by 5.\n"
     ]
    }
   ],
   "source": [
    "#4 Write a python program to check weather a number is divisible by 3, Also check it is divisible by 5 or not.\n",
    "# Input a number from the user\n",
    "number = int(input(\"Enter a number: \"))\n",
    "if number % 3 == 0:\n",
    "    print(f\"{number} is divisible by 3.\")\n",
    "else:\n",
    "    print(f\"{number} is not divisible by 3.\")\n",
    "    \n",
    "if number % 5 == 0:\n",
    "    print(f\"{number} is divisible by 5.\")\n",
    "else:\n",
    "    print(f\"{number} is not divisible by 5.\")\n"
   ]
  },
  {
   "cell_type": "code",
   "execution_count": 43,
   "id": "daceef0f-62eb-41b9-a2ca-b4d6b6ba973f",
   "metadata": {},
   "outputs": [
    {
     "name": "stdout",
     "output_type": "stream",
     "text": [
      "ATM\n"
     ]
    },
    {
     "name": "stdin",
     "output_type": "stream",
     "text": [
      "Enter your A/c number: 1234567890\n",
      "Enter your ATM PIN 1234\n"
     ]
    },
    {
     "name": "stdout",
     "output_type": "stream",
     "text": [
      "Login successful!\n",
      "1. Check Balance\n",
      "2. Deposit Money\n",
      "3. Withdraw Money\n",
      "4. Exit\n"
     ]
    },
    {
     "name": "stdin",
     "output_type": "stream",
     "text": [
      "Enter a number of an option 1\n"
     ]
    },
    {
     "name": "stdout",
     "output_type": "stream",
     "text": [
      "Balance is: Rs.1500000\n",
      "1. Check Balance\n",
      "2. Deposit Money\n",
      "3. Withdraw Money\n",
      "4. Exit\n"
     ]
    },
    {
     "name": "stdin",
     "output_type": "stream",
     "text": [
      "Enter a number of an option 2\n",
      "Please add some deposit: 10000\n"
     ]
    },
    {
     "name": "stdout",
     "output_type": "stream",
     "text": [
      "deposit Rs.10000.Newbalance: Rs.1510000\n",
      "1. Check Balance\n",
      "2. Deposit Money\n",
      "3. Withdraw Money\n",
      "4. Exit\n"
     ]
    },
    {
     "name": "stdin",
     "output_type": "stream",
     "text": [
      "Enter a number of an option 3\n",
      "Please withdraw some amount: 5000\n"
     ]
    },
    {
     "name": "stdout",
     "output_type": "stream",
     "text": [
      "Withraw Rs.5000.Newbalance: Rs.1505000\n",
      "1. Check Balance\n",
      "2. Deposit Money\n",
      "3. Withdraw Money\n",
      "4. Exit\n"
     ]
    },
    {
     "name": "stdin",
     "output_type": "stream",
     "text": [
      "Enter a number of an option 4\n"
     ]
    },
    {
     "name": "stdout",
     "output_type": "stream",
     "text": [
      "Thank you for using our ATM!\n"
     ]
    }
   ],
   "source": [
    "#5 Create a basic ATM program that allow user to check thei balance, deposit money and withdraw money,\n",
    " # insuring that they didnt withdraw more than they have.\n",
    "ATM=[\n",
    "    {\"A/cNo.\":1234567890,\"Amount\":1500000,\"ATMPIN\":1234},\n",
    "    {\"A/cNo.\":1987654321,\"Amount\":1000,\"ATMPIN\":4321}\n",
    "]\n",
    "print('ATM')\n",
    "account=0\n",
    "a=int(input(\"Enter your A/c number:\"))\n",
    "Pin=int(input(\"Enter your ATM PIN\"))\n",
    "for ac in ATM:\n",
    "    if ac['A/cNo.']==a and ac['ATMPIN']==Pin:\n",
    "        account=ac\n",
    "    break\n",
    "if account:\n",
    "    print(\"Login successful!\")\n",
    "    while 1==1:\n",
    "        print(\"1. Check Balance\")\n",
    "        print(\"2. Deposit Money\")\n",
    "        print(\"3. Withdraw Money\")\n",
    "        print(\"4. Exit\")\n",
    "        choice=int(input(\"Enter a number of an option\"))\n",
    "        \n",
    "        if choice==1:\n",
    "            print(f\"Balance is: Rs.{account['Amount']}\")\n",
    "            \n",
    "        elif choice==2:\n",
    "            deposit=int(input(\"Please add some deposit:\"))\n",
    "            \n",
    "            if deposit>0:\n",
    "                account['Amount']+=deposit\n",
    "                print(f\"deposit Rs.{deposit}.Newbalance: Rs.{account['Amount']}\")\n",
    "            else:\n",
    "                print(\"Invalid amount\")\n",
    "                \n",
    "        elif choice == 3:\n",
    "            withdraw=int(input(\"Please withdraw some amount:\"))\n",
    "            \n",
    "            if withdraw>account['Amount']:\n",
    "                print(\"Balance is Insuffient.\")\n",
    "            elif withdraw<=0:\n",
    "                print(\"Please enter accurate amount\")\n",
    "            else:\n",
    "              account[\"Amount\"] -= withdraw \n",
    "              print(f\"Withraw Rs.{withdraw}.Newbalance: Rs.{account['Amount']}\")\n",
    "                \n",
    "        elif choice == 4:\n",
    "            print(\"Thank you for using our ATM!\")\n",
    "            break\n",
    "            \n",
    "        else:\n",
    "            print(\"Invalid option.\")\n",
    "else:\n",
    "    print(\"Invalid account number or PIN!\")"
   ]
  },
  {
   "cell_type": "code",
   "execution_count": null,
   "id": "2b224d42-94df-4717-be78-c4673e763688",
   "metadata": {},
   "outputs": [],
   "source": [
    "# UNIT-2"
   ]
  },
  {
   "cell_type": "code",
   "execution_count": 3,
   "id": "04dbcfad-4391-4b12-b99b-3583b820bd71",
   "metadata": {},
   "outputs": [
    {
     "name": "stdout",
     "output_type": "stream",
     "text": [
      "2\n",
      "4\n",
      "6\n",
      "8\n",
      "10\n",
      "12\n",
      "14\n",
      "16\n",
      "18\n",
      "20\n",
      "22\n",
      "24\n",
      "26\n",
      "28\n",
      "30\n",
      "32\n",
      "34\n",
      "36\n",
      "38\n",
      "40\n",
      "42\n",
      "44\n",
      "46\n",
      "48\n",
      "50\n",
      "52\n",
      "54\n",
      "56\n",
      "58\n",
      "60\n",
      "62\n",
      "64\n",
      "66\n",
      "68\n",
      "70\n",
      "72\n",
      "74\n",
      "76\n",
      "78\n",
      "80\n",
      "82\n",
      "84\n",
      "86\n",
      "88\n",
      "90\n",
      "92\n",
      "94\n",
      "96\n",
      "98\n",
      "100\n"
     ]
    }
   ],
   "source": [
    "#6 Write a python program to print all even numbers from 1 to 100.\n",
    "for a in range(1, 101):\n",
    "    if a % 2 == 0:\n",
    "        print(a)"
   ]
  },
  {
   "cell_type": "code",
   "execution_count": 5,
   "id": "e7de26e6-e5a9-4c7d-add3-418084c456e7",
   "metadata": {},
   "outputs": [
    {
     "name": "stdin",
     "output_type": "stream",
     "text": [
      "enter the number 10\n"
     ]
    },
    {
     "name": "stdout",
     "output_type": "stream",
     "text": [
      "10 x 1 = 10\n",
      "10 x 2 = 20\n",
      "10 x 3 = 30\n",
      "10 x 4 = 40\n",
      "10 x 5 = 50\n",
      "10 x 6 = 60\n",
      "10 x 7 = 70\n",
      "10 x 8 = 80\n",
      "10 x 9 = 90\n",
      "10 x 10 = 100\n"
     ]
    }
   ],
   "source": [
    "#7 Wite a python program to print the table of any number inputd by the user.\n",
    "def table(a,b):\n",
    "    return a*b\n",
    "\n",
    "num = int(input(\"enter the number\"))\n",
    "for i in range(1,11):\n",
    "    print(f\"{num} x {i} = {table(num,i)}\")"
   ]
  },
  {
   "cell_type": "code",
   "execution_count": 9,
   "id": "19092acf-a632-4c47-9837-a0d6ed6d8232",
   "metadata": {},
   "outputs": [
    {
     "name": "stdout",
     "output_type": "stream",
     "text": [
      "fibonacci series 1\n",
      "0\n",
      "1\n",
      "1\n",
      "2\n",
      "3\n",
      "5\n",
      "8\n",
      "13\n",
      "21\n",
      "34\n",
      "55\n",
      "89\n",
      "fibonacci series 2\n",
      "0 1 1 2 3 5 8 13 21 34 55 89 "
     ]
    }
   ],
   "source": [
    "#8 Write a python program to print fibonacci series.\n",
    "print(\"fibonacci series 1\")\n",
    "a = 0\n",
    "b = 1\n",
    "n = 100\n",
    "while a<n: \n",
    "    print(a)\n",
    "    c = a\n",
    "    a = b\n",
    "    b = a + c\n",
    "    \n",
    "print(\"fibonacci series 2\")\n",
    "def fibonacci(n):\n",
    "    a, b = 0, 1\n",
    "    while a < n:\n",
    "        print(a, end=' ')\n",
    "        a, b = b, a + b\n",
    "fibonacci(100)\n"
   ]
  },
  {
   "cell_type": "code",
   "execution_count": 13,
   "id": "b18a67b0-7607-4821-8ea5-9ef5df7e7d66",
   "metadata": {},
   "outputs": [
    {
     "name": "stdin",
     "output_type": "stream",
     "text": [
      "enter your number:  123321\n"
     ]
    },
    {
     "name": "stdout",
     "output_type": "stream",
     "text": [
      " 'YES' its a PLAINDROME\n"
     ]
    }
   ],
   "source": [
    "#9 Write a python program to print to input a number weather it is palendrome or not.\n",
    "a = int(input(\"enter your number: \"))\n",
    "copy = a\n",
    "rev = 0\n",
    "while copy > 0:\n",
    "    rev = rev * 10 + copy % 10\n",
    "    copy = int(copy / 10)\n",
    "if rev == a:\n",
    "    print(\" 'YES' its a PLAINDROME\")\n",
    "else:\n",
    "    print(\" 'NO' its not a PLAINDROME\")"
   ]
  },
  {
   "cell_type": "code",
   "execution_count": 23,
   "id": "57b7b6b8-ae32-476c-a6c6-85cf804910d7",
   "metadata": {},
   "outputs": [
    {
     "name": "stdin",
     "output_type": "stream",
     "text": [
      "Enter the length of the list:  5\n",
      "Enter element 1:  1\n",
      "Enter element 2:  2\n",
      "Enter element 3:  3\n",
      "Enter element 4:  4\n",
      "Enter element 5:  5\n",
      "Enter the element to search for:  2\n"
     ]
    },
    {
     "name": "stdout",
     "output_type": "stream",
     "text": [
      "Element 2 found at index 1.\n"
     ]
    }
   ],
   "source": [
    "#10 Write a python program to input the length of a series or list and create a list dynamically hence search from the list using linear search.\n",
    "def linear_search(lst, target):\n",
    "    for i in range(len(lst)):\n",
    "        if lst[i] == target:\n",
    "            return i\n",
    "    return -1  \n",
    "\n",
    "n = int(input(\"Enter the length of the list: \"))\n",
    "\n",
    "lst = []\n",
    "for i in range(n):\n",
    "    element = int(input(f\"Enter element {i+1}: \"))\n",
    "    lst.append(element)\n",
    "\n",
    "target = int(input(\"Enter the element to search for: \"))\n",
    "\n",
    "index = linear_search(lst, target)\n",
    "\n",
    "if index != -1:\n",
    "    print(f\"Element {target} found at index {index}.\")\n",
    "else:\n",
    "    print(f\"Element {target} not found in the list.\")\n"
   ]
  },
  {
   "cell_type": "code",
   "execution_count": 33,
   "id": "48c16f6c-27bb-4298-aa2c-8201e056ef25",
   "metadata": {},
   "outputs": [
    {
     "name": "stdin",
     "output_type": "stream",
     "text": [
      "Enter student roll number:  110\n"
     ]
    },
    {
     "name": "stdout",
     "output_type": "stream",
     "text": [
      "\n",
      "Student Details:\n",
      "Roll No: 110\n",
      "Name: Anjali Singh\n",
      "Course ID: 2452017\n"
     ]
    }
   ],
   "source": [
    "#11 Write a python program to print to create a dictionary for every students data- roll_no, name, and the course_id \n",
    "  # hence create an input for the roll_no and output the course_id.\n",
    "# Create a dictionary to store student data\n",
    "students = {\n",
    "    101: {\"name\": \"Varun Bamrara\", \"course_id\": \"24521008\"},\n",
    "    102: {\"name\": \"Kunal bansal\", \"course_id\": \"24521009\"},\n",
    "    103: {\"name\": \"Uttkarsh Sharma\", \"course_id\": \"24521010\"},\n",
    "    104: {\"name\": \"Abhay Singh Rawat\", \"course_id\": \"G24521011\"},\n",
    "    105: {\"name\": \"Shayon Shadilya\", \"course_id\": \"2452012\"},\n",
    "    106: {\"name\": \"Divleen Kaur\", \"course_id\": \"2452013\"},\n",
    "    107: {\"name\": \"Isha Rawat\", \"course_id\": \"2452014\"},\n",
    "    108: {\"name\": \"Pooja Yadav\", \"course_id\": \"2452015\"},\n",
    "    109: {\"name\": \"Aysha Naz\", \"course_id\": \"2452016\"},\n",
    "    110: {\"name\": \"Anjali Singh\", \"course_id\": \"2452017\"},\n",
    "    111: {\"name\": \"Rahul Rawat\", \"course_id\": \"2452018\"},\n",
    "    112: {\"name\": \"Vivek singh negi\", \"course_id\": \"2452019\"},\n",
    "    113: {\"name\": \"Manpreet Kaur\", \"course_id\": \"2452020\"}\n",
    "}\n",
    "\n",
    "def get_course_id(roll_no):\n",
    "    \"\"\"\n",
    "    Function to get course ID based on student roll number\n",
    "    Returns None if student not found\n",
    "    \"\"\"\n",
    "    if roll_no in students:\n",
    "        return students[roll_no][\"course_id\"]\n",
    "    return None\n",
    "\n",
    "def main():\n",
    "    try:\n",
    "        roll_no = int(input(\"Enter student roll number: \"))\n",
    "        \n",
    "        course_id = get_course_id(roll_no)\n",
    "        \n",
    "        if course_id:\n",
    "            print(f\"\\nStudent Details:\")\n",
    "            print(f\"Roll No: {roll_no}\")\n",
    "            print(f\"Name: {students[roll_no]['name']}\")\n",
    "            print(f\"Course ID: {course_id}\")\n",
    "        else:\n",
    "            print(f\"\\nNo student found with roll number {roll_no}\")\n",
    "            \n",
    "    except ValueError:\n",
    "        print(\"Please enter a valid roll number (integer)\")\n",
    "\n",
    "if __name__ == \"__main__\":\n",
    "    main()"
   ]
  },
  {
   "cell_type": "code",
   "execution_count": 3,
   "id": "2a0845e2-961e-498b-91d1-4b816bc8606c",
   "metadata": {},
   "outputs": [
    {
     "name": "stdout",
     "output_type": "stream",
     "text": [
      "Welcome to our restaurant!\n",
      "\n",
      "Menu:\n",
      "Burger: $50.00\n",
      "Pizza: $100.00\n",
      "Pasta: $80.00\n",
      "Salad: $35.00\n",
      "Soda: $20.00\n"
     ]
    },
    {
     "name": "stdin",
     "output_type": "stream",
     "text": [
      "\n",
      "Enter the item name to add to your order or type 'done' to finish:  burger\n"
     ]
    },
    {
     "name": "stdout",
     "output_type": "stream",
     "text": [
      "Burger added to your order. Current total: $50.00\n",
      "\n",
      "Menu:\n",
      "Burger: $50.00\n",
      "Pizza: $100.00\n",
      "Pasta: $80.00\n",
      "Salad: $35.00\n",
      "Soda: $20.00\n"
     ]
    },
    {
     "name": "stdin",
     "output_type": "stream",
     "text": [
      "\n",
      "Enter the item name to add to your order or type 'done' to finish:  pizza\n"
     ]
    },
    {
     "name": "stdout",
     "output_type": "stream",
     "text": [
      "Pizza added to your order. Current total: $150.00\n",
      "\n",
      "Menu:\n",
      "Burger: $50.00\n",
      "Pizza: $100.00\n",
      "Pasta: $80.00\n",
      "Salad: $35.00\n",
      "Soda: $20.00\n"
     ]
    },
    {
     "name": "stdin",
     "output_type": "stream",
     "text": [
      "\n",
      "Enter the item name to add to your order or type 'done' to finish:  soda\n"
     ]
    },
    {
     "name": "stdout",
     "output_type": "stream",
     "text": [
      "Soda added to your order. Current total: $170.00\n",
      "\n",
      "Menu:\n",
      "Burger: $50.00\n",
      "Pizza: $100.00\n",
      "Pasta: $80.00\n",
      "Salad: $35.00\n",
      "Soda: $20.00\n"
     ]
    },
    {
     "name": "stdin",
     "output_type": "stream",
     "text": [
      "\n",
      "Enter the item name to add to your order or type 'done' to finish:  done\n"
     ]
    },
    {
     "name": "stdout",
     "output_type": "stream",
     "text": [
      "\n",
      "Your order:\n",
      "- Burger\n",
      "- Pizza\n",
      "- Soda\n",
      "\n",
      "Total Bill: $170.00\n"
     ]
    }
   ],
   "source": [
    "#12 Write a python program that displays a menu with the item prices, lets the user select items to add their order and tell the total bill also.\n",
    "menu = {\n",
    "    \"Burger\": 50,\n",
    "    \"Pizza\": 100,\n",
    "    \"Pasta\": 80,\n",
    "    \"Salad\": 35,\n",
    "    \"Soda\": 20\n",
    "}\n",
    "\n",
    "def display_menu():\n",
    "    print(\"\\nMenu:\")\n",
    "    for item, price in menu.items():\n",
    "        print(f\"{item}: ${price:.2f}\")\n",
    "\n",
    "def take_order():\n",
    "    order = []\n",
    "    total_bill = 0\n",
    "\n",
    "    while True:\n",
    "        display_menu()\n",
    "        \n",
    "        choice = input(\"\\nEnter the item name to add to your order or type 'done' to finish: \").capitalize()\n",
    "        \n",
    "        if choice == 'Done':\n",
    "            break\n",
    "        elif choice in menu:\n",
    "            order.append(choice)\n",
    "            total_bill += menu[choice]\n",
    "            print(f\"{choice} added to your order. Current total: ${total_bill:.2f}\")\n",
    "        else:\n",
    "            print(\"Invalid item, please choose from the menu.\")\n",
    "    \n",
    "    return order, total_bill\n",
    "\n",
    "def main():\n",
    "    print(\"Welcome to our restaurant!\")\n",
    "    \n",
    "    order, total_bill = take_order()\n",
    "    \n",
    "    if order:\n",
    "        print(\"\\nYour order:\")\n",
    "        for item in order:\n",
    "            print(f\"- {item}\")\n",
    "        print(f\"\\nTotal Bill: ${total_bill:.2f}\")\n",
    "    else:\n",
    "        print(\"No items were selected. Exiting...\")\n",
    "\n",
    "main()"
   ]
  },
  {
   "cell_type": "code",
   "execution_count": 1,
   "id": "df1680a0-558c-4783-861f-3e90509b8090",
   "metadata": {},
   "outputs": [
    {
     "name": "stdout",
     "output_type": "stream",
     "text": [
      "6x6 Star Pattern:\n",
      "* * * * * * \n",
      "* * * * * * \n",
      "* * * * * * \n",
      "* * * * * * \n",
      "* * * * * * \n",
      "* * * * * * \n",
      "\n",
      "Right-Angle Triangle Pattern:\n",
      "* \n",
      "* * \n",
      "* * * \n",
      "* * * * \n",
      "* * * * * \n",
      "* * * * * * \n"
     ]
    }
   ],
   "source": [
    "#13 Write a python program to print to print star pattern (6x6) and right angle triangle.\n",
    "def print_star_pattern():\n",
    "    for i in range(6):\n",
    "        for j in range(6):\n",
    "            print(\"*\", end=\" \")\n",
    "        print()\n",
    "\n",
    "def print_right_angle_triangle():\n",
    "    for i in range(1, 7):\n",
    "        for j in range(i):\n",
    "            print(\"*\", end=\" \")\n",
    "        print()\n",
    "\n",
    "print(\"6x6 Star Pattern:\")\n",
    "print_star_pattern()\n",
    "\n",
    "print(\"\\nRight-Angle Triangle Pattern:\")\n",
    "print_right_angle_triangle()\n"
   ]
  },
  {
   "cell_type": "code",
   "execution_count": null,
   "id": "bb86cb73-3457-45d4-9a70-ea2fb66a8c77",
   "metadata": {},
   "outputs": [],
   "source": [
    "# UNIT-3"
   ]
  },
  {
   "cell_type": "code",
   "execution_count": 2,
   "id": "63fe85a2-fb9e-42bd-899b-c8f71bceaf6c",
   "metadata": {},
   "outputs": [
    {
     "name": "stdout",
     "output_type": "stream",
     "text": [
      "Select operation.\n",
      "1.ADDITION\n",
      "2.SUBTRACT\n",
      "3.MULTIPLY\n",
      "4.DIVIDE\n",
      "5.EXIT CACULATER\n"
     ]
    },
    {
     "name": "stdin",
     "output_type": "stream",
     "text": [
      "Enter number  25\n",
      "Enter number  25\n",
      "Enter choice(1/2/3/4/5):  1\n"
     ]
    },
    {
     "name": "stdout",
     "output_type": "stream",
     "text": [
      "25 + 25 = 50\n"
     ]
    },
    {
     "name": "stdin",
     "output_type": "stream",
     "text": [
      "Enter choice(1/2/3/4/5):  2\n"
     ]
    },
    {
     "name": "stdout",
     "output_type": "stream",
     "text": [
      "25 - 25 = 0\n"
     ]
    },
    {
     "name": "stdin",
     "output_type": "stream",
     "text": [
      "Enter choice(1/2/3/4/5):  3\n"
     ]
    },
    {
     "name": "stdout",
     "output_type": "stream",
     "text": [
      "25 * 25 = 625\n"
     ]
    },
    {
     "name": "stdin",
     "output_type": "stream",
     "text": [
      "Enter choice(1/2/3/4/5):  4\n"
     ]
    },
    {
     "name": "stdout",
     "output_type": "stream",
     "text": [
      "25 / 25 = 1.0\n"
     ]
    },
    {
     "name": "stdin",
     "output_type": "stream",
     "text": [
      "Enter choice(1/2/3/4/5):  5\n"
     ]
    },
    {
     "name": "stdout",
     "output_type": "stream",
     "text": [
      "Thank you for using\n"
     ]
    }
   ],
   "source": [
    "#14 Write a python program to print a calculator.\n",
    "def add(a,b):\n",
    "    return a+b\n",
    "def sub(a,b):\n",
    "    return a-b\n",
    "def multiply(a,b):\n",
    "    return a*b\n",
    "def divide(a,b):\n",
    "    return a/b\n",
    "\n",
    "print(\"Select operation.\")\n",
    "print(\"1.ADDITION\")\n",
    "print(\"2.SUBTRACT\")\n",
    "print(\"3.MULTIPLY\")\n",
    "print(\"4.DIVIDE\")\n",
    "print(\"5.EXIT CACULATER\")\n",
    "num1=int(input(\"Enter number \"))\n",
    "num2=int(input(\"Enter number \"))\n",
    "while 1==1:\n",
    "    choice = input(\"Enter choice(1/2/3/4/5): \")\n",
    "    if choice in ('1', '2', '3', '4','5'):\n",
    "        if choice == '1':\n",
    "            print(num1, \"+\", num2, \"=\", add(num1, num2))\n",
    "\n",
    "        elif choice == '2':\n",
    "            print(num1, \"-\", num2, \"=\", sub(num1, num2))\n",
    "\n",
    "        elif choice == '3':\n",
    "            print(num1, \"*\", num2, \"=\", multiply(num1, num2))\n",
    "\n",
    "        elif choice == '4':\n",
    "            print(num1, \"/\", num2, \"=\", divide(num1, num2))\n",
    "        elif choice == '5':\n",
    "            print(\"Thank you for using\")\n",
    "            break\n",
    "    else:\n",
    "        print(\"ERROE\")"
   ]
  },
  {
   "cell_type": "code",
   "execution_count": 4,
   "id": "44ee54de-ff07-43ca-8928-f553665726ad",
   "metadata": {},
   "outputs": [
    {
     "name": "stdout",
     "output_type": "stream",
     "text": [
      "Before swap (with third variable):\n",
      "a = 5 b = 10\n",
      "After swap (with third variable):\n",
      "a = 10 b = 5\n",
      "\n",
      "Before swap (without third variable):\n",
      "a = 5 b = 10\n",
      "After swap (without third variable):\n",
      "a = 10 b = 5\n"
     ]
    }
   ],
   "source": [
    "#15 Write a python program to print to swap two numbers using third variable second without using third varible in a.\n",
    "\n",
    "# Swap two numbers using a third variable\n",
    "def swap_with_third_variable(a, b):\n",
    "    print(\"Before swap (with third variable):\")\n",
    "    print(\"a =\", a, \"b =\", b)\n",
    "\n",
    "    temp = a\n",
    "    a = b\n",
    "    b = temp\n",
    "\n",
    "    print(\"After swap (with third variable):\")\n",
    "    print(\"a =\", a, \"b =\", b)\n",
    "\n",
    "# Swap two numbers without using a third variable\n",
    "def swap_without_third_variable(a, b):\n",
    "    print(\"\\nBefore swap (without third variable):\")\n",
    "    print(\"a =\", a, \"b =\", b)\n",
    "\n",
    "    a = a + b\n",
    "    b = a - b\n",
    "    a = a - b\n",
    "\n",
    "    print(\"After swap (without third variable):\")\n",
    "    print(\"a =\", a, \"b =\", b)\n",
    "\n",
    "a = 5\n",
    "b = 10\n",
    "\n",
    "swap_with_third_variable(a, b)\n",
    "swap_without_third_variable(a, b)\n"
   ]
  },
  {
   "cell_type": "code",
   "execution_count": 8,
   "id": "c79ed85c-7fe5-4969-874c-54bb8ee36e61",
   "metadata": {},
   "outputs": [
    {
     "name": "stdin",
     "output_type": "stream",
     "text": [
      "Enter the first number:  10\n",
      "Enter the second number:  15\n"
     ]
    },
    {
     "name": "stdout",
     "output_type": "stream",
     "text": [
      "The sum of 10 and 15 is: 25\n"
     ]
    }
   ],
   "source": [
    "#16 Write a python program to create a function to sum two numbers.\n",
    "def sum_two_numbers(a, b):\n",
    "    return a + b\n",
    "\n",
    "num1 = int(input(\"Enter the first number: \"))\n",
    "num2 = int(input(\"Enter the second number: \"))\n",
    "result = sum_two_numbers(num1, num2)\n",
    "print(\"The sum of\", num1, \"and\", num2, \"is:\", result)"
   ]
  },
  {
   "cell_type": "code",
   "execution_count": 12,
   "id": "52e8dfea-3df7-44a5-9356-6a960b2bcac1",
   "metadata": {},
   "outputs": [
    {
     "name": "stdin",
     "output_type": "stream",
     "text": [
      "Enter the first number:  10\n",
      "Enter the second number:  15\n"
     ]
    },
    {
     "name": "stdout",
     "output_type": "stream",
     "text": [
      "10 is Even\n",
      "15 is Odd\n"
     ]
    }
   ],
   "source": [
    "#17 Write a python program to create a fucntion to even and odd.\n",
    "def check_even_odd(number):\n",
    "    if number % 2 == 0:\n",
    "        return f\"{number} is Even\"\n",
    "    else:\n",
    "        return f\"{number} is Odd\"\n",
    "\n",
    "num1 = int(input(\"Enter the first number: \"))\n",
    "num2 = int(input(\"Enter the second number: \"))\n",
    "\n",
    "print(check_even_odd(num1))\n",
    "print(check_even_odd(num2))\n"
   ]
  },
  {
   "cell_type": "code",
   "execution_count": 20,
   "id": "53901fbf-33d5-4454-a6cc-220f938b4e87",
   "metadata": {},
   "outputs": [
    {
     "name": "stdin",
     "output_type": "stream",
     "text": [
      "Enter a number:  10\n"
     ]
    },
    {
     "name": "stdout",
     "output_type": "stream",
     "text": [
      "The factorial of 10 is 3628800.\n"
     ]
    }
   ],
   "source": [
    "#18 Write a Python Program to Create a function that outputs Factorials of a number without using Recursion.\n",
    "\n",
    "def factorial(n):\n",
    "    result = 1\n",
    "    for i in range(1, n + 1):\n",
    "        result *= i\n",
    "    return result\n",
    "\n",
    "# Input a number from the user\n",
    "num = int(input(\"Enter a number: \"))\n",
    "\n",
    "# Call the factorial function and print the result\n",
    "fact = factorial(num)\n",
    "print(f\"The factorial of {num} is {fact}.\")"
   ]
  },
  {
   "cell_type": "code",
   "execution_count": 15,
   "id": "449613d9-4048-4ccb-bb2b-611d2d7f54df",
   "metadata": {},
   "outputs": [
    {
     "name": "stdin",
     "output_type": "stream",
     "text": [
      "Enter numbers separated by spaces:  1 2 3 4 5 6 7 8 9 10\n"
     ]
    },
    {
     "name": "stdout",
     "output_type": "stream",
     "text": [
      "Numbers: [1.0, 2.0, 3.0, 4.0, 5.0, 6.0, 7.0, 8.0, 9.0, 10.0]\n",
      "Sum: 55.0\n",
      "Product: 3628800.0\n",
      "Average: 5.50\n"
     ]
    }
   ],
   "source": [
    "#19 Write a python program to create a function that inputs any number of parameters and output- 1. Sum 2.Product 3.Average.\n",
    "def calculate_stats(*args):\n",
    "    if len(args) == 0:\n",
    "        return \"No numbers provided.\"\n",
    "\n",
    "    total_sum = sum(args)\n",
    "    product = 1\n",
    "    for num in args:\n",
    "        product *= num\n",
    "    average = total_sum / len(args)\n",
    "\n",
    "    return total_sum, product, average\n",
    "\n",
    "numbers = list(map(float, input(\"Enter numbers separated by spaces: \").split()))\n",
    "\n",
    "result = calculate_stats(*numbers)\n",
    "\n",
    "print(f\"Numbers: {numbers}\")\n",
    "print(f\"Sum: {result[0]}\")\n",
    "print(f\"Product: {result[1]}\")\n",
    "print(f\"Average: {result[2]:.2f}\")"
   ]
  }
 ],
 "metadata": {
  "kernelspec": {
   "display_name": "Python 3 (ipykernel)",
   "language": "python",
   "name": "python3"
  },
  "language_info": {
   "codemirror_mode": {
    "name": "ipython",
    "version": 3
   },
   "file_extension": ".py",
   "mimetype": "text/x-python",
   "name": "python",
   "nbconvert_exporter": "python",
   "pygments_lexer": "ipython3",
   "version": "3.11.7"
  }
 },
 "nbformat": 4,
 "nbformat_minor": 5
}
